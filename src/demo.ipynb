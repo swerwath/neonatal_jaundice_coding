{
 "cells": [
  {
   "cell_type": "code",
   "execution_count": 1,
   "metadata": {},
   "outputs": [],
   "source": [
    "from get_data_from_csvs import get_relevant_hamds, get_relevant_notesets, get_all_neonate_hamds"
   ]
  },
  {
   "cell_type": "code",
   "execution_count": 2,
   "metadata": {},
   "outputs": [
    {
     "name": "stdout",
     "output_type": "stream",
     "text": [
      "7863\n",
      "2989\n",
      "5044\n"
     ]
    }
   ],
   "source": [
    "neonate_hamds = get_all_neonate_hamds()\n",
    "pos_hamds = get_relevant_hamds()\n",
    "neg_hamds = neonate_hamds.difference(pos_hamds)\n",
    "\n",
    "print(len(neonate_hamds))\n",
    "print(len(pos_hamds))\n",
    "print(len(neg_hamds))"
   ]
  },
  {
   "cell_type": "code",
   "execution_count": 3,
   "metadata": {},
   "outputs": [],
   "source": [
    "pos_notesets = get_relevant_notesets(pos_hamds)\n",
    "neg_notesets = get_relevant_notesets(neg_hamds)"
   ]
  },
  {
   "cell_type": "code",
   "execution_count": 4,
   "metadata": {},
   "outputs": [
    {
     "data": {
      "text/plain": [
       "\"\\n[**2108-10-7**] 11:51 AM\\n PORTABLE ABDOMEN                                                Clip # [**Clip Number (Radiology) 92875**]\\n Reason: r/o abnormal bowel gas pattern\\n Admitting Diagnosis: NEWBORN\\n ______________________________________________________________________________\\n [**Hospital 2**] MEDICAL CONDITION:\\n  Infant with blood streaked stools\\n REASON FOR THIS EXAMINATION:\\n  r/o abnormal bowel gas pattern\\n ______________________________________________________________________________\\n                                 FINAL REPORT\\n PORTABLE ABDOMEN [**2108-10-7**] at 1200 hours\\n\\n HISTORY:  Infant with blood streaked stools.  Rule out abnormal bowel gas\\n pattern.\\n\\n FINDINGS:  There is no prior examination for comparison.  The bowel loops are\\n mildly distended.  The bowel gas pattern is nonobstructive.  On this single\\n supine view, there is no definite evidence of pneumatosis or pneumoperitoneum.\\n The lung bases appear clear.\\n\\n\\n\\nNeonatology Attending\\n\\nReferred by Dr. [**Last Name (STitle) 113**] for evaluation of blood in stools\\n\\n[**Doctor First Name 332**] is a 3 do 36 [**1-31**] week twin #2 male admitted for evaluation of blood in stools.\\n\\n2655 gram 36 [**1-31**] week twin #2 male born to a 31 yo G1 P0->2 female\\nPNS:  B+/Ab-/RPR NR/RI/HBsAg-/GBS unknown\\nMaternal h/o polycystic ovary syndrome.  Uncomplicated twin gestation.  C/S delivery under spinal anesthesia.  Apgars [**7-4**].\\n\\nIn NN breast and bottle feeding (mainly E20 20-30 ml q 3-5 hrs).  Today blood streaks noted in stool.  Stool otherwise normal in appearance.  Baby looked well on exam.  Wt ~8%<BW.  Referred for evaluation.\\n\\nNo fever or hypothermia noted, no resp distress, no emesis.\\n\\nHep B vaccine given [**10-7**]\\nHearing screen referred on L, needs rescreen\\nCar seat test not done yet\\nBili today 9.1/0.4 (Zone IV)\\n\\nSH:  Married parents, twin sib in NN\\nFH:  Noncontributory\\n\\nExam Small late preterm male pink and comfortable in RA\\nT 98.1 P 136 R 38 BP 82/53 mean 63 O2 sat 98%\\nAF soft, flat, jaundiced, pink and well perfused, nondysmorphic, intact palate, clear bs, no murmur, soft, nondistended, nontender abd, + bs, no hsm, normal male genitalia, circ healing, testes descended, patent anus, no fissures seen, no hip click, no sacral dimple, active, normal tone\\n\\nhct 49.9, plt 291, wbc 4.6 (59P/1B/26L/10M/4E)\\nBC sent\\nDS 81\\nKUB normal bowel gas pattern, no evidence of pneumatosis\\n\\nFed nutramigen x 2.  Exam remains benign with stools still having some streaks of blood.\\n\\nA:  Late premature twin male with streaks of blood in stool, well appearing, no fissures, normal KUB, reassuring CBC.  Likely allergic colitis.  Changed to nutramigen.  Anticipate he may have blood streaks and/or heme + stools for several days.\\n\\nP:  Return to NN for routine care\\n    Continue nutramigen\\n    Expect blood streaks and/or heme + stools for several days\\n    If blood in stool increases or abdominal exam changes or activity level changes, will reevaluate\\n    Dr. [**Last Name (STitle) 113**] aware of KUB results and plan\\n    Will need repeat hearing screen and car seat test\\n    I updated mother and answered her questions\\n    Pediatrician will be Dr. [**First Name8 (NamePattern2) **] [**Last Name (NamePattern1) **] in [**Location (un) 2457**]\\n\\n\\nNursing Note\\nBaby boy [**Known lastname 2458**]#2 brought to NICU for bloody stools.  Please see Attending's note for HX.  CBC and cultures drawn and sent.  CBC WNL, no ABX.  KUB done.  Infant formula changed to Nutramigen 20cal.  Inf PO feeding at 1330, and 1530 taking 30cc each feed.  Tol well.  No spits.  Belly soft and flat, no loops. Voiding, stool X2, sm amt bloody streaks noted. LS CL=, no audible murmur.  Transfer back to NBN as ordered.\\n\\nNursing Note\\nInfant passed car seat test 90 min no desats no bradys noted.\\n\""
      ]
     },
     "execution_count": 4,
     "metadata": {},
     "output_type": "execute_result"
    }
   ],
   "source": [
    "pos_notesets[list(pos_notesets.keys())[4]]"
   ]
  },
  {
   "cell_type": "code",
   "execution_count": 5,
   "metadata": {},
   "outputs": [
    {
     "data": {
      "text/plain": [
       "\"\\nNNP Triage Note\\n\\nBB [**Known lastname 1061**] is a 38 2/7 weeks gestation infant, BW 2845 grams, admitted to NICU Triage for a sepsis evaluation.\\n\\nHX: Delivery by NSVD under epidural anesthesia to a 27 year old G2P1->2 B-/Ab-/RI/RPR-NR/HBsAg-/GBS+ woman with pregnancy complicated by diet controlled GDM.  No maternal fever.  ROM ~ 3 hours PTD.  Received intrapartum abx ~ 3 1/2 hours PTD.  Received fre flow O2 at delivery.  Apgars 8 and 9.\\n\\nPE: pink, well perfused, AFOF, molding, caput, eyes appear slightly wide set, beaked nose small chin (facial features like mothers [**Name8 (MD) 103**] RN) no clefts, breath sounds clear/equal with easy WOB, no murmur, normal pulses, abd soft, no HSM, no masses, small mongolian spot over coccyx, normal phallus, testes descended,  spine intact, hips stable, normal tone and reflexes.\\n\\nAssessment: Well appearing AGA term male with sepsis risk maternal GBS colonization with < 4 hours intrapartum abx prophylaxis.\\nRisk for hypoglycemia.\\n\\nPlan:  CBC and blood culture. Treat if CBC abnormal or symptomatic.\\nHypoglycemia protocol.\\nTransfer to newborn nursery.\\n\\nNPN\\nBaby [**Name (NI) 77**] [**Known lastname 1061**] was brought to NICU for sepsis evaluation. CBC and blood culture sent. D-stick 57/68. Vital signs WNL. (see above note [**Name8 (MD) 103**] NNP for detailed history). Infant to be transfered to reg. nursery. Baby meds given.\\n\\nNeo attending\\nTerm infant to NICU for sepsis evaluation.\\n\\nPlease see details by [**First Name9 (NamePattern2) 18**] [**Location (un) 19**]\\n\\nInfant's PE reassuring.\\n\\nAgree with plan to draw CBC and blood culture and treat only if clinical exam changes.\\n\\nLabs: WBC 17, 72P, 2 B, Platelets 284K, Hct 52\\n\\nParents aware of plan.\\n\""
      ]
     },
     "execution_count": 5,
     "metadata": {},
     "output_type": "execute_result"
    }
   ],
   "source": [
    "neg_notesets[list(neg_notesets.keys())[4]]"
   ]
  },
  {
   "cell_type": "code",
   "execution_count": null,
   "metadata": {},
   "outputs": [],
   "source": []
  }
 ],
 "metadata": {
  "kernelspec": {
   "display_name": "Python 3",
   "language": "python",
   "name": "python3"
  },
  "language_info": {
   "codemirror_mode": {
    "name": "ipython",
    "version": 3
   },
   "file_extension": ".py",
   "mimetype": "text/x-python",
   "name": "python",
   "nbconvert_exporter": "python",
   "pygments_lexer": "ipython3",
   "version": "3.6.3"
  }
 },
 "nbformat": 4,
 "nbformat_minor": 2
}
