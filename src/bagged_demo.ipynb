{
 "cells": [
  {
   "cell_type": "code",
   "execution_count": 6,
   "metadata": {},
   "outputs": [],
   "source": [
    "import pickle\n",
    "from random import shuffle, seed\n",
    "import numpy as np\n",
    "from util import plot_confusion_matrix\n",
    "import matplotlib.pyplot as plt\n",
    "from sklearn.metrics import roc_curve, auc, precision_recall_curve\n",
    "from sklearn.model_selection import cross_val_score\n",
    "from sklearn.pipeline import Pipeline, make_pipeline\n",
    "from sklearn.feature_extraction.text import CountVectorizer, TfidfTransformer\n",
    "from sklearn.ensemble import BaggingClassifier\n",
    "from sklearn.metrics import confusion_matrix, roc_curve, auc\n",
    "from sklearn.tree import DecisionTreeClassifier\n",
    "from sklearn.model_selection import GridSearchCV\n",
    "\n",
    "\n",
    "import warnings\n",
    "warnings.filterwarnings('ignore') # get rid of silly sklearn warnings\n",
    "\n",
    "seed(\"sahai uwu\")"
   ]
  },
  {
   "cell_type": "code",
   "execution_count": 7,
   "metadata": {},
   "outputs": [
    {
     "name": "stdout",
     "output_type": "stream",
     "text": [
      "Number of training samples: 5361\n",
      "Number of test samples: 1341\n",
      "(array([0, 1]), array([3070, 2291]))\n",
      "(array([0, 1]), array([787, 554]))\n"
     ]
    }
   ],
   "source": [
    "#ppath = \"/Volumes/scottf/mimic_processed/preproced.bin\"\n",
    "ppath = \"/Volumes/scottf/mimic_processed/preproced_neg.bin\"\n",
    "#ppath = \"/Volumes/scottd/mimic_processed/preproced_discharge.bin\"\n",
    "data = pickle.load(open(ppath, 'rb')) # Tuples of (text, label) where label is 0 or 1\n",
    "shuffle(data)\n",
    "\n",
    "split_point = int(0.8 * len(data)) # Use 80% of our data for training and the rest for testing\n",
    "train = data[:split_point]\n",
    "test = data[split_point:]\n",
    "\n",
    "train_data = [t[0] for t in train]\n",
    "train_labels = [t[1] for t in train]\n",
    "test_data = [t[0] for t in test]\n",
    "test_labels = [t[1] for t in test]\n",
    "\n",
    "print(\"Number of training samples: \" + str(len(train)))\n",
    "print(\"Number of test samples: \" + str(len(test)))\n",
    "print(np.unique(train_labels, return_counts=True))\n",
    "print(np.unique(test_labels, return_counts=True))"
   ]
  },
  {
   "cell_type": "code",
   "execution_count": null,
   "metadata": {},
   "outputs": [],
   "source": [
    "gridSearch = False\n",
    "if gridSearch:\n",
    "    classifier = make_pipeline(CountVectorizer(), TfidfTransformer(), BaggingClassifier())\n",
    "    params = {'baggingclassifier__n_estimators' : [32, 64], 'countvectorizer__ngram_range' : [(1, 1), (1, 2), (2, 2)]}\n",
    "    clf = GridSearchCV(classifier, params, n_jobs=-1)\n",
    "else:\n",
    "    classifier = make_pipeline(CountVectorizer(), TfidfTransformer(), BaggingClassifier(n_estimators=100)) \n",
    "    clf = classifier\n",
    "\n",
    "clf.fit(train_data, train_labels)\n",
    "\n",
    "def confs(estimator, data):\n",
    "    class_probs = estimator.predict_proba(data)\n",
    "    confs = [c[1] for c in class_probs]\n",
    "    return confs\n",
    "\n",
    "def transforms(pipeline, X):\n",
    "    \"\"\"Applies all transforms to the data, without applying last \n",
    "       estimator.\n",
    "    \"\"\"\n",
    "    Xt = X\n",
    "    for name, transform in pipeline.steps[:-1]:\n",
    "        Xt = transform.transform(Xt)\n",
    "    return Xt\n",
    "\n",
    "def weighted_vote(estimators, weights, data):\n",
    "    #print(\"Data \" + str(data.shape))\n",
    "    preds = np.array([confs(e, data) for e in estimators])\n",
    "    #print(\"Preds \" + str(preds.shape) + \" \" + str(preds))\n",
    "    #print(\"Weights \" + str(weights.shape))\n",
    "    weighted_preds = np.average(preds, axis=0, weights=weights)\n",
    "    #print(\"Weighted Preds \" + str(weighted_preds.shape) + \" \" + str(weighted_preds))\n",
    "    return np.around(weighted_preds)\n",
    "\n",
    "# Plot accuracy vs number of estimators\n",
    "train_accs = []\n",
    "test_accs = []\n",
    "trans_test = transforms(clf, test_data)\n",
    "trans_train = transforms(clf, train_data)\n",
    "for i in range(1, len(clf.named_steps['baggingclassifier'].estimators_), 2):\n",
    "    preds = weighted_vote(clf.named_steps['baggingclassifier'].estimators_[:i], clf.named_steps['baggingclassifier'].estimator_weights_[:i], trans_test)\n",
    "    test_accs.append(np.mean(preds == test_labels))\n",
    "    preds = weighted_vote(clf.named_steps['baggingclassifier'].estimators_[:i], clf.named_steps['baggingclassifier'].estimator_weights_[:i], trans_train)\n",
    "    train_accs.append(np.mean(preds == train_labels))\n",
    "    \n",
    "print(train_accs)\n",
    "print(test_accs)\n",
    "\n",
    "plt.figure()\n",
    "lw = 2\n",
    "plt.plot(range(1, len(clf.named_steps['baggingclassifier'].estimators_), 2), train_accs, color='green',\n",
    "         lw=lw, label='Training Accuracy')\n",
    "plt.plot(range(1, len(clf.named_steps['baggingclassifier'].estimators_), 2), test_accs, color='purple',\n",
    "         lw=lw, label='Testing Accuracy')\n",
    "plt.xlabel('Number of Bagged Decision Trees')\n",
    "plt.ylabel('Accuracy')\n",
    "plt.title('Classification Accuracy vs. Number of classifiers in Bagged Trees')\n",
    "plt.legend(loc=\"lower right\")\n",
    "plt.show()\n",
    "plt.savefig('bagged_num_class.png')"
   ]
  },
  {
   "cell_type": "code",
   "execution_count": 8,
   "metadata": {},
   "outputs": [
    {
     "name": "stdout",
     "output_type": "stream",
     "text": [
      "Accuracy: 0.9023117076808352\n"
     ]
    },
    {
     "data": {
      "image/png": "[encoded data removed]",
      "text/plain": [
       "<matplotlib.figure.Figure at 0x1a0e141ac8>"
      ]
     },
     "metadata": {},
     "output_type": "display_data"
    },
    {
     "data": {
      "image/png": "[encoded data removed]",
      "text/plain": [
       "<matplotlib.figure.Figure at 0x1a0de013c8>"
      ]
     },
     "metadata": {},
     "output_type": "display_data"
    }
   ],
   "source": [
    "clf = make_pipeline(CountVectorizer(), TfidfTransformer(), BaggingClassifier(n_estimators=5)) \n",
    "clf.fit(train_data, train_labels)\n",
    "\n",
    "predictions = clf.predict(test_data)\n",
    "print(\"Accuracy: \" + str(np.mean(predictions == test_labels)))\n",
    "\n",
    "conf_mat = confusion_matrix(test_labels, predictions)\n",
    "\n",
    "plt.figure()\n",
    "plot_confusion_matrix(conf_mat, [\"Positive\", \"Negative\"])\n",
    "plt.show()\n",
    "\n",
    "class_probs = clf.predict_proba(test_data)\n",
    "conf = [c[1] for c in class_probs]\n",
    "\n",
    "fpr, tpr, thresholds = roc_curve(test_labels, conf, pos_label=1)\n",
    "roc_auc = auc(fpr, tpr)\n",
    "\n",
    "plt.figure()\n",
    "lw = 2\n",
    "plt.plot(fpr, tpr, color='darkorange',\n",
    "         lw=lw, label='Testing ROC curve (area = %0.2f)' % roc_auc)\n",
    "plt.plot([0, 1], [0, 1], color='navy', lw=lw, linestyle='--')\n",
    "plt.xlim([0.0, 1.0])\n",
    "plt.ylim([0.0, 1.0])\n",
    "plt.xlabel('False Positive Rate')\n",
    "plt.ylabel('True Positive Rate')\n",
    "plt.title('Bagging Classifier Receiver Operating Characteristic')\n",
    "plt.legend(loc=\"lower right\")\n",
    "plt.show()"
   ]
  },
  {
   "cell_type": "code",
   "execution_count": 9,
   "metadata": {},
   "outputs": [
    {
     "name": "stdout",
     "output_type": "stream",
     "text": [
      "Accuracy: 0.9023117076808352\n",
      "Precision: [0.89709443 0.91067961]\n",
      "Recall: [0.94155019 0.8465704 ]\n",
      "F1: [0.91878487 0.87745557]\n"
     ]
    }
   ],
   "source": [
    "from sklearn.metrics import accuracy_score, precision_recall_fscore_support\n",
    "\n",
    "#clf = make_pipeline(CountVectorizer(), TfidfTransformer(), BaggingClassifier(n_estimators=5)) \n",
    "#clf.fit(train_data, train_labels)\n",
    "\n",
    "predictions = clf.predict(test_data)\n",
    "\n",
    "print(\"Accuracy: \" + str(accuracy_score(test_labels, predictions)))\n",
    "p, r, f, _ = precision_recall_fscore_support(test_labels, predictions)\n",
    "print(\"Precision: \" + str(p))\n",
    "print(\"Recall: \" + str(r))\n",
    "print(\"F1: \" + str(f))"
   ]
  },
  {
   "cell_type": "code",
   "execution_count": null,
   "metadata": {},
   "outputs": [],
   "source": [
    "scores = cross_val_score(clf, train_data + test_data, train_labels + test_labels, cv=10)\n",
    "scores.mean()"
   ]
  },
  {
   "cell_type": "code",
   "execution_count": null,
   "metadata": {},
   "outputs": [],
   "source": []
  }
 ],
 "metadata": {
  "kernelspec": {
   "display_name": "Python 3",
   "language": "python",
   "name": "python3"
  },
  "language_info": {
   "codemirror_mode": {
    "name": "ipython",
    "version": 3
   },
   "file_extension": ".py",
   "mimetype": "text/x-python",
   "name": "python",
   "nbconvert_exporter": "python",
   "pygments_lexer": "ipython3",
   "version": "3.6.3"
  }
 },
 "nbformat": 4,
 "nbformat_minor": 2
}
